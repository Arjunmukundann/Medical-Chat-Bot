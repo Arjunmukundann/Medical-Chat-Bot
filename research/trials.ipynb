{
 "cells": [
  {
   "cell_type": "code",
   "execution_count": null,
   "id": "667418f8",
   "metadata": {},
   "outputs": [],
   "source": [
    "%pip install sentence-transformers"
   ]
  },
  {
   "cell_type": "code",
   "execution_count": null,
   "id": "04a3a56d",
   "metadata": {},
   "outputs": [],
   "source": [
    "%pip install groq"
   ]
  },
  {
   "cell_type": "code",
   "execution_count": null,
   "id": "45188b5a",
   "metadata": {},
   "outputs": [],
   "source": [
    "%pip install "
   ]
  },
  {
   "cell_type": "code",
   "execution_count": null,
   "id": "1486d374",
   "metadata": {},
   "outputs": [],
   "source": [
    "%pip install langchain_groq"
   ]
  },
  {
   "cell_type": "code",
   "execution_count": null,
   "id": "3fffb9e6",
   "metadata": {},
   "outputs": [],
   "source": [
    "from langchain.document_loaders import PyPDFLoader,DirectoryLoader\n",
    "from langchain.text_splitter import RecursiveCharacterTextSplitter\n",
    "from langchain.embeddings import HuggingFaceEmbeddings\n",
    "from sentence_transformers import SentenceTransformer\n",
    "from dotenv import load_dotenv\n",
    "from pinecone.grpc import PineconeGRPC as Pinecone\n",
    "from pinecone import ServerlessSpec\n",
    "from langchain_pinecone import PineconeVectorStore\n",
    "from langchain.chains import create_retrieval_chain\n",
    "from langchain.chains.combine_documents import create_stuff_documents_chain\n",
    "from langchain_core.prompts import ChatPromptTemplate\n",
    "from groq import Groq\n",
    "\n",
    "\n",
    "from langchain_groq import ChatGroq\n",
    "import os"
   ]
  },
  {
   "cell_type": "code",
   "execution_count": null,
   "id": "3357525f",
   "metadata": {},
   "outputs": [],
   "source": [
    "def load_pdf_file(data):\n",
    "    loader=DirectoryLoader(data,\n",
    "                           glob=\"*.pdf\",\n",
    "                           loader_cls=PyPDFLoader)\n",
    "    documents=loader.load()\n",
    "    return documents"
   ]
  },
  {
   "cell_type": "code",
   "execution_count": null,
   "id": "cfa028f4",
   "metadata": {},
   "outputs": [],
   "source": [
    "extractor=load_pdf_file(data='C:/Users/Arjun/OneDrive/Desktop/DO IT/Medical-Chat-Bot/Data')"
   ]
  },
  {
   "cell_type": "code",
   "execution_count": null,
   "id": "6b4944ec",
   "metadata": {},
   "outputs": [],
   "source": [
    "extractor"
   ]
  },
  {
   "cell_type": "code",
   "execution_count": null,
   "id": "b1b842ea",
   "metadata": {},
   "outputs": [],
   "source": [
    "def split_data(extractor):\n",
    "    text_splitter=RecursiveCharacterTextSplitter(chunk_size=500,chunk_overlap=20)\n",
    "    text_chunks=text_splitter.split_documents(extractor)\n",
    "    return text_chunks"
   ]
  },
  {
   "cell_type": "code",
   "execution_count": null,
   "id": "c94a80c1",
   "metadata": {},
   "outputs": [],
   "source": [
    "text_chunks=split_data(extractor)\n",
    "print(len(text_chunks))"
   ]
  },
  {
   "cell_type": "code",
   "execution_count": null,
   "id": "c5d94750",
   "metadata": {},
   "outputs": [],
   "source": [
    "def download_embedding():\n",
    "    embedding=HuggingFaceEmbeddings(model_name=\"sentence-transformers/all-MiniLM-L6-v2\")\n",
    "    return embedding"
   ]
  },
  {
   "cell_type": "code",
   "execution_count": null,
   "id": "30205c94",
   "metadata": {},
   "outputs": [],
   "source": [
    "embedding=download_embedding()"
   ]
  },
  {
   "cell_type": "code",
   "execution_count": null,
   "id": "3e98c44e",
   "metadata": {},
   "outputs": [],
   "source": [
    "result=embedding.embed_query(\"hello world\")\n",
    "print(\"result\",len(result))"
   ]
  },
  {
   "cell_type": "code",
   "execution_count": null,
   "id": "53f7dfd9",
   "metadata": {},
   "outputs": [],
   "source": [
    "load_dotenv()"
   ]
  },
  {
   "cell_type": "code",
   "execution_count": null,
   "id": "0a62cf69",
   "metadata": {},
   "outputs": [],
   "source": [
    "pinecone_api_key=os.environ.get(\"pinecone_api_key\")\n",
    "groq_api_key=os.environ.get(\"groq_api_key\")"
   ]
  },
  {
   "cell_type": "code",
   "execution_count": null,
   "id": "779d2b9e",
   "metadata": {},
   "outputs": [],
   "source": [
    "pc = Pinecone(api_key=pinecone_api_key)\n",
    "index_name = \"medibot\"\n",
    "\n",
    "# Only create the index if it does not already exist\n",
    "if index_name not in pc.list_indexes().names():\n",
    "    pc.create_index(\n",
    "        name=index_name,\n",
    "        dimension=384,\n",
    "        metric=\"cosine\",\n",
    "        spec=ServerlessSpec(\n",
    "            cloud=\"aws\",\n",
    "            region=\"us-east-1\",\n",
    "        )\n",
    "    )\n",
    "else:\n",
    "    print(f\"Index '{index_name}' already exists. Skipping creation.\")\n"
   ]
  },
  {
   "cell_type": "code",
   "execution_count": null,
   "id": "1a189036",
   "metadata": {},
   "outputs": [],
   "source": [
    "os.environ[\"pinecone_api_key\"] = pinecone_api_key\n",
    "\n",
    "os.environ[\"groq_api_key\"] = groq_api_key"
   ]
  },
  {
   "cell_type": "code",
   "execution_count": null,
   "id": "17407fa0",
   "metadata": {},
   "outputs": [],
   "source": [
    "vector=PineconeVectorStore.from_documents(\n",
    "    documents=text_chunks,\n",
    "    index_name=index_name,\n",
    "    embedding=embedding,\n",
    ")"
   ]
  },
  {
   "cell_type": "code",
   "execution_count": null,
   "id": "4eb3a2b0",
   "metadata": {},
   "outputs": [],
   "source": [
    "vector=PineconeVectorStore.from_existing_index(\n",
    "    index_name=index_name,\n",
    "    embedding=embedding,\n",
    ")"
   ]
  },
  {
   "cell_type": "code",
   "execution_count": null,
   "id": "7f138ebd",
   "metadata": {},
   "outputs": [],
   "source": [
    "vector"
   ]
  },
  {
   "cell_type": "code",
   "execution_count": null,
   "id": "20e321f6",
   "metadata": {},
   "outputs": [],
   "source": [
    "retrival=vector.as_retriever(search_type=\"similarity\", search_kwargs={\"k\": 5})"
   ]
  },
  {
   "cell_type": "code",
   "execution_count": null,
   "id": "28016614",
   "metadata": {},
   "outputs": [],
   "source": [
    "Query=retrival.invoke(\"what is the symptoms of ARDS?\")"
   ]
  },
  {
   "cell_type": "code",
   "execution_count": null,
   "id": "11fc6ffc",
   "metadata": {},
   "outputs": [],
   "source": [
    "Query"
   ]
  },
  {
   "cell_type": "code",
   "execution_count": null,
   "id": "aa359005",
   "metadata": {},
   "outputs": [],
   "source": [
    "# Wrap the Groq LLM with the LangChain ChatGroq wrapper\n",
    "chat_llm = ChatGroq(api_key=groq_api_key, model=\"llama-3.3-70b-versatile\")"
   ]
  },
  {
   "cell_type": "code",
   "execution_count": null,
   "id": "1b87cf36",
   "metadata": {},
   "outputs": [],
   "source": [
    "system_prompt=(\n",
    "    \"you are a medical expert. You will be given a question and some context. \"\n",
    "    \"You will answer the question based on the context provided. \"\n",
    "    \"if you don't know the answers,say 'I don't know' and do not make up answers.\"\n",
    "    \"use three sentences maximum and keep the answer concise.\"\n",
    "    \"\\n\\n\"\n",
    "    \"{context}\"\n",
    "\n",
    ")\n",
    "prompt=ChatPromptTemplate.from_messages(\n",
    "    [\n",
    "        (\"system\", system_prompt),\n",
    "        (\"human\", \"{input}\"),\n",
    "    ]\n",
    ")"
   ]
  },
  {
   "cell_type": "code",
   "execution_count": null,
   "id": "d806fc7c",
   "metadata": {},
   "outputs": [],
   "source": [
    "\n",
    "\n",
    "\n",
    "chain = create_stuff_documents_chain(chat_llm, prompt)\n",
    "rag_chain = create_retrieval_chain(retrival, chain)\n"
   ]
  },
  {
   "cell_type": "code",
   "execution_count": null,
   "id": "1af0afa6",
   "metadata": {},
   "outputs": [],
   "source": [
    "response = rag_chain.invoke({'input': \"what is the symptoms of ARDS?\"})\n",
    "print(response['answer'])"
   ]
  },
  {
   "cell_type": "code",
   "execution_count": null,
   "id": "91769cdd",
   "metadata": {},
   "outputs": [],
   "source": []
  }
 ],
 "metadata": {
  "kernelspec": {
   "display_name": "Python 3",
   "language": "python",
   "name": "python3"
  },
  "language_info": {
   "codemirror_mode": {
    "name": "ipython",
    "version": 3
   },
   "file_extension": ".py",
   "mimetype": "text/x-python",
   "name": "python",
   "nbconvert_exporter": "python",
   "pygments_lexer": "ipython3",
   "version": "3.13.2"
  }
 },
 "nbformat": 4,
 "nbformat_minor": 5
}
